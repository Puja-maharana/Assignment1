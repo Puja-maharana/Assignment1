{
 "cells": [
  {
   "cell_type": "code",
   "execution_count": 1,
   "id": "11cc15c0-bc0b-4d62-8cf2-ae09a0dd5993",
   "metadata": {},
   "outputs": [],
   "source": [
    "d={}"
   ]
  },
  {
   "cell_type": "code",
   "execution_count": 2,
   "id": "89e0d5d5-ef05-4377-90e9-727b74870221",
   "metadata": {},
   "outputs": [
    {
     "data": {
      "text/plain": [
       "dict"
      ]
     },
     "execution_count": 2,
     "metadata": {},
     "output_type": "execute_result"
    }
   ],
   "source": [
    "type(d)"
   ]
  },
  {
   "cell_type": "code",
   "execution_count": 3,
   "id": "d81ef4bc-6202-4acc-90ef-f277c6778119",
   "metadata": {},
   "outputs": [],
   "source": [
    "d1={'key':'sudh'}"
   ]
  },
  {
   "cell_type": "code",
   "execution_count": 4,
   "id": "55e7e9c8-7715-4253-bf0e-33a41575e5e9",
   "metadata": {},
   "outputs": [
    {
     "data": {
      "text/plain": [
       "{'key': 'sudh'}"
      ]
     },
     "execution_count": 4,
     "metadata": {},
     "output_type": "execute_result"
    }
   ],
   "source": [
    "d1"
   ]
  },
  {
   "cell_type": "code",
   "execution_count": 5,
   "id": "638e7cc8-1468-4e90-8a48-85ff3503bb02",
   "metadata": {},
   "outputs": [
    {
     "data": {
      "text/plain": [
       "dict"
      ]
     },
     "execution_count": 5,
     "metadata": {},
     "output_type": "execute_result"
    }
   ],
   "source": [
    "type(d1)"
   ]
  },
  {
   "cell_type": "code",
   "execution_count": 2,
   "id": "e03c24df-cefd-4935-8245-cbf8b4098d84",
   "metadata": {},
   "outputs": [],
   "source": [
    "d2={'hello':'i am hear','wher':'are you','are you':'tell me'}"
   ]
  },
  {
   "cell_type": "code",
   "execution_count": 3,
   "id": "d06ab5af-057d-49d9-bda9-ccf69ea4fd74",
   "metadata": {},
   "outputs": [
    {
     "data": {
      "text/plain": [
       "{'hello': 'i am hear', 'wher': 'are you', 'are you': 'tell me'}"
      ]
     },
     "execution_count": 3,
     "metadata": {},
     "output_type": "execute_result"
    }
   ],
   "source": [
    "d2"
   ]
  },
  {
   "cell_type": "code",
   "execution_count": 4,
   "id": "37724216-7ea9-4733-a7d2-880a1588af70",
   "metadata": {},
   "outputs": [
    {
     "data": {
      "text/plain": [
       "dict"
      ]
     },
     "execution_count": 4,
     "metadata": {},
     "output_type": "execute_result"
    }
   ],
   "source": [
    "type(d2)"
   ]
  },
  {
   "cell_type": "code",
   "execution_count": 11,
   "id": "4c651039-c54e-4906-be50-0076f6840084",
   "metadata": {},
   "outputs": [],
   "source": [
    "d3={'235':'6985','puja':'maharana','summer':'session'}"
   ]
  },
  {
   "cell_type": "code",
   "execution_count": 12,
   "id": "77872737-4675-44f0-bcd1-29a6540b8269",
   "metadata": {},
   "outputs": [
    {
     "data": {
      "text/plain": [
       "{'235': '6985', 'puja': 'maharana', 'summer': 'session'}"
      ]
     },
     "execution_count": 12,
     "metadata": {},
     "output_type": "execute_result"
    }
   ],
   "source": [
    "d3"
   ]
  },
  {
   "cell_type": "code",
   "execution_count": 13,
   "id": "ed498f9f-8d22-4ef7-9154-63cacdeaf55d",
   "metadata": {},
   "outputs": [
    {
     "data": {
      "text/plain": [
       "dict_values(['6985', 'maharana', 'session'])"
      ]
     },
     "execution_count": 13,
     "metadata": {},
     "output_type": "execute_result"
    }
   ],
   "source": [
    "d3.values()"
   ]
  },
  {
   "cell_type": "code",
   "execution_count": 14,
   "id": "3604e308-e5fa-4445-aa12-142399a6aed8",
   "metadata": {},
   "outputs": [
    {
     "data": {
      "text/plain": [
       "'6985'"
      ]
     },
     "execution_count": 14,
     "metadata": {},
     "output_type": "execute_result"
    }
   ],
   "source": [
    "d3['235']"
   ]
  },
  {
   "cell_type": "code",
   "execution_count": 16,
   "id": "9ca8e2d7-b1b9-42ad-8a22-1f3de6190470",
   "metadata": {},
   "outputs": [
    {
     "data": {
      "text/plain": [
       "'maharana'"
      ]
     },
     "execution_count": 16,
     "metadata": {},
     "output_type": "execute_result"
    }
   ],
   "source": [
    "d3['puja']"
   ]
  },
  {
   "cell_type": "code",
   "execution_count": 8,
   "id": "76b02423-8fda-4d98-8503-a2c2652ab19d",
   "metadata": {},
   "outputs": [],
   "source": [
    "d4={'hello':'student','wher':'are you','puja':'tell me'}"
   ]
  },
  {
   "cell_type": "code",
   "execution_count": 9,
   "id": "2ff08874-08a2-4865-9c23-1aadae81b4cc",
   "metadata": {},
   "outputs": [
    {
     "data": {
      "text/plain": [
       "{'hello': 'student', 'wher': 'are you', 'puja': 'tell me'}"
      ]
     },
     "execution_count": 9,
     "metadata": {},
     "output_type": "execute_result"
    }
   ],
   "source": [
    "d4"
   ]
  },
  {
   "cell_type": "code",
   "execution_count": 10,
   "id": "5b1dea4c-216a-4407-b291-a693d1fd4303",
   "metadata": {},
   "outputs": [
    {
     "data": {
      "text/plain": [
       "dict"
      ]
     },
     "execution_count": 10,
     "metadata": {},
     "output_type": "execute_result"
    }
   ],
   "source": [
    "type(d4)"
   ]
  },
  {
   "cell_type": "code",
   "execution_count": 12,
   "id": "4daa4b25-0618-43de-b102-f13a7f312cc4",
   "metadata": {},
   "outputs": [
    {
     "data": {
      "text/plain": [
       "'student'"
      ]
     },
     "execution_count": 12,
     "metadata": {},
     "output_type": "execute_result"
    }
   ],
   "source": [
    "d4['hello']"
   ]
  },
  {
   "cell_type": "code",
   "execution_count": 14,
   "id": "9a34810c-9a38-4610-854e-ae050a9ccfb4",
   "metadata": {},
   "outputs": [
    {
     "data": {
      "text/plain": [
       "'are you'"
      ]
     },
     "execution_count": 14,
     "metadata": {},
     "output_type": "execute_result"
    }
   ],
   "source": [
    "d4['wher']"
   ]
  },
  {
   "cell_type": "code",
   "execution_count": 19,
   "id": "23a26d46-bda2-4e58-a46a-185ca478d5dd",
   "metadata": {},
   "outputs": [],
   "source": [
    "d5={\"company\":\"pwskill\",\"course\":[\"web dev\",\"data science\",\"java wth data system design \"]}"
   ]
  },
  {
   "cell_type": "code",
   "execution_count": 20,
   "id": "2511f8f2-cb7d-4e36-ac28-7f0ec7ece38e",
   "metadata": {},
   "outputs": [
    {
     "data": {
      "text/plain": [
       "{'company': 'pwskill',\n",
       " 'course': ['web dev', 'data science', 'java wth data system design ']}"
      ]
     },
     "execution_count": 20,
     "metadata": {},
     "output_type": "execute_result"
    }
   ],
   "source": [
    "d5"
   ]
  },
  {
   "cell_type": "code",
   "execution_count": 21,
   "id": "1c18a52d-75cf-46ba-bb5a-402f8d6fdf6a",
   "metadata": {},
   "outputs": [
    {
     "data": {
      "text/plain": [
       "['web dev', 'data science', 'java wth data system design ']"
      ]
     },
     "execution_count": 21,
     "metadata": {},
     "output_type": "execute_result"
    }
   ],
   "source": [
    "d5['course']"
   ]
  },
  {
   "cell_type": "code",
   "execution_count": 22,
   "id": "76871519-f461-46cd-98de-77ae62c127d4",
   "metadata": {},
   "outputs": [
    {
     "data": {
      "text/plain": [
       "'java wth data system design '"
      ]
     },
     "execution_count": 22,
     "metadata": {},
     "output_type": "execute_result"
    }
   ],
   "source": [
    "d5['course'][2]"
   ]
  },
  {
   "cell_type": "code",
   "execution_count": 23,
   "id": "89c1c99a-5b31-4ec6-ad65-805df3eee457",
   "metadata": {},
   "outputs": [
    {
     "data": {
      "text/plain": [
       "'data science'"
      ]
     },
     "execution_count": 23,
     "metadata": {},
     "output_type": "execute_result"
    }
   ],
   "source": [
    "d5['course'][1]"
   ]
  },
  {
   "cell_type": "code",
   "execution_count": 31,
   "id": "86e0ae36-01d1-4e4c-b818-38a25b33cca3",
   "metadata": {},
   "outputs": [],
   "source": [
    "d6={\"number\":[2,34,3,34,34,],\"assignment\":(1,2,3,4,5,6),\"launch date\":{28,12,14},\"class time\":{\"8pm\": \"web dev\",\"data science strutchear\":\"9pm\"}}"
   ]
  },
  {
   "cell_type": "code",
   "execution_count": 32,
   "id": "b1827b2f-59b4-421b-9e53-0da825e0ac2e",
   "metadata": {},
   "outputs": [
    {
     "data": {
      "text/plain": [
       "{'number': [2, 34, 3, 34, 34],\n",
       " 'assignment': (1, 2, 3, 4, 5, 6),\n",
       " 'launch date': {12, 14, 28},\n",
       " 'class time': {'8pm': 'web dev', 'data science strutchear': '9pm'}}"
      ]
     },
     "execution_count": 32,
     "metadata": {},
     "output_type": "execute_result"
    }
   ],
   "source": [
    "d6"
   ]
  },
  {
   "cell_type": "code",
   "execution_count": 26,
   "id": "7e9967f3-a84b-435c-9fd9-785290628835",
   "metadata": {},
   "outputs": [
    {
     "data": {
      "text/plain": [
       "[2, 34, 3, 34, 34]"
      ]
     },
     "execution_count": 26,
     "metadata": {},
     "output_type": "execute_result"
    }
   ],
   "source": [
    "d6['number']"
   ]
  },
  {
   "cell_type": "code",
   "execution_count": 27,
   "id": "a1cd756a-4129-4d6a-8944-52fdb795219a",
   "metadata": {},
   "outputs": [
    {
     "data": {
      "text/plain": [
       "(1, 2, 3, 4, 5, 6)"
      ]
     },
     "execution_count": 27,
     "metadata": {},
     "output_type": "execute_result"
    }
   ],
   "source": [
    "d6['assignment']"
   ]
  },
  {
   "cell_type": "code",
   "execution_count": 33,
   "id": "6618af83-6890-44c0-897d-8368c685dca4",
   "metadata": {},
   "outputs": [
    {
     "data": {
      "text/plain": [
       "{12, 14, 28}"
      ]
     },
     "execution_count": 33,
     "metadata": {},
     "output_type": "execute_result"
    }
   ],
   "source": [
    "d6['launch date']"
   ]
  },
  {
   "cell_type": "code",
   "execution_count": 34,
   "id": "1126844c-ce0b-46f5-b001-f6fa945f25fc",
   "metadata": {},
   "outputs": [
    {
     "data": {
      "text/plain": [
       "{'8pm': 'web dev', 'data science strutchear': '9pm'}"
      ]
     },
     "execution_count": 34,
     "metadata": {},
     "output_type": "execute_result"
    }
   ],
   "source": [
    "d6[\"class time\"]"
   ]
  },
  {
   "cell_type": "code",
   "execution_count": 37,
   "id": "f831e7ba-617d-4f1d-94c4-aabdf8a4541c",
   "metadata": {},
   "outputs": [
    {
     "data": {
      "text/plain": [
       "'9pm'"
      ]
     },
     "execution_count": 37,
     "metadata": {},
     "output_type": "execute_result"
    }
   ],
   "source": [
    "d6['class time'][\"data science strutchear\"]"
   ]
  },
  {
   "cell_type": "code",
   "execution_count": 38,
   "id": "39110484-692e-4771-94a6-a39a50ab76e0",
   "metadata": {},
   "outputs": [
    {
     "data": {
      "text/plain": [
       "'web dev'"
      ]
     },
     "execution_count": 38,
     "metadata": {},
     "output_type": "execute_result"
    }
   ],
   "source": [
    "d6['class time'][\"8pm\"]"
   ]
  },
  {
   "cell_type": "code",
   "execution_count": 39,
   "id": "15a69da2-cb16-4344-a78b-ecf38a5ff880",
   "metadata": {},
   "outputs": [],
   "source": [
    "d6[\"menter\"]=[\"pwskill\",\"data science\",\"web dev\"]"
   ]
  },
  {
   "cell_type": "code",
   "execution_count": 40,
   "id": "eaf549e3-418f-498c-8ab2-f580e98f1584",
   "metadata": {},
   "outputs": [
    {
     "data": {
      "text/plain": [
       "{'number': [2, 34, 3, 34, 34],\n",
       " 'assignment': (1, 2, 3, 4, 5, 6),\n",
       " 'launch date': {12, 14, 28},\n",
       " 'class time': {'8pm': 'web dev', 'data science strutchear': '9pm'},\n",
       " 'menter': ['pwskill', 'data science', 'web dev']}"
      ]
     },
     "execution_count": 40,
     "metadata": {},
     "output_type": "execute_result"
    }
   ],
   "source": [
    "d6"
   ]
  },
  {
   "cell_type": "code",
   "execution_count": 43,
   "id": "5beb6fcf-6173-4d78-bec6-d01fc6debe5a",
   "metadata": {},
   "outputs": [],
   "source": [
    "del d6['number']"
   ]
  },
  {
   "cell_type": "code",
   "execution_count": 44,
   "id": "e6d41d33-c492-450d-a852-0d95181ee202",
   "metadata": {},
   "outputs": [
    {
     "data": {
      "text/plain": [
       "{'assignment': (1, 2, 3, 4, 5, 6),\n",
       " 'launch date': {12, 14, 28},\n",
       " 'class time': {'8pm': 'web dev', 'data science strutchear': '9pm'},\n",
       " 'menter': ['pwskill', 'data science', 'web dev']}"
      ]
     },
     "execution_count": 44,
     "metadata": {},
     "output_type": "execute_result"
    }
   ],
   "source": [
    "d6"
   ]
  },
  {
   "cell_type": "code",
   "execution_count": 47,
   "id": "8d1ff4e7-5070-4985-8e5e-69df5f7ff5b7",
   "metadata": {},
   "outputs": [
    {
     "data": {
      "text/plain": [
       "['assignment', 'launch date', 'class time', 'menter']"
      ]
     },
     "execution_count": 47,
     "metadata": {},
     "output_type": "execute_result"
    }
   ],
   "source": [
    "list(d6.keys())"
   ]
  },
  {
   "cell_type": "code",
   "execution_count": 48,
   "id": "79f4bfaf-dc65-4e9e-917b-1b0a6d1165a6",
   "metadata": {},
   "outputs": [
    {
     "data": {
      "text/plain": [
       "dict_keys(['assignment', 'launch date', 'class time', 'menter'])"
      ]
     },
     "execution_count": 48,
     "metadata": {},
     "output_type": "execute_result"
    }
   ],
   "source": [
    "d6.keys()"
   ]
  },
  {
   "cell_type": "code",
   "execution_count": 49,
   "id": "b31f6527-7fbe-4857-842c-ad92e00c51fe",
   "metadata": {},
   "outputs": [
    {
     "data": {
      "text/plain": [
       "dict_values([(1, 2, 3, 4, 5, 6), {28, 12, 14}, {'8pm': 'web dev', 'data science strutchear': '9pm'}, ['pwskill', 'data science', 'web dev']])"
      ]
     },
     "execution_count": 49,
     "metadata": {},
     "output_type": "execute_result"
    }
   ],
   "source": [
    "d6.values()"
   ]
  },
  {
   "cell_type": "code",
   "execution_count": 50,
   "id": "fd9b1269-537a-4d95-9960-1bd4bf1f828a",
   "metadata": {},
   "outputs": [
    {
     "data": {
      "text/plain": [
       "[(1, 2, 3, 4, 5, 6),\n",
       " {12, 14, 28},\n",
       " {'8pm': 'web dev', 'data science strutchear': '9pm'},\n",
       " ['pwskill', 'data science', 'web dev']]"
      ]
     },
     "execution_count": 50,
     "metadata": {},
     "output_type": "execute_result"
    }
   ],
   "source": [
    "list(d6.values())"
   ]
  },
  {
   "cell_type": "code",
   "execution_count": 51,
   "id": "8e18bf71-e11d-4bc3-bf7f-cce1b57c3ebd",
   "metadata": {},
   "outputs": [
    {
     "data": {
      "text/plain": [
       "[('assignment', (1, 2, 3, 4, 5, 6)),\n",
       " ('launch date', {12, 14, 28}),\n",
       " ('class time', {'8pm': 'web dev', 'data science strutchear': '9pm'}),\n",
       " ('menter', ['pwskill', 'data science', 'web dev'])]"
      ]
     },
     "execution_count": 51,
     "metadata": {},
     "output_type": "execute_result"
    }
   ],
   "source": [
    "list(d6.items())"
   ]
  },
  {
   "cell_type": "code",
   "execution_count": 53,
   "id": "1a4205c0-1b9d-4b77-abc3-592a3151aa08",
   "metadata": {},
   "outputs": [
    {
     "data": {
      "text/plain": [
       "(1, 2, 3, 4, 5, 6)"
      ]
     },
     "execution_count": 53,
     "metadata": {},
     "output_type": "execute_result"
    }
   ],
   "source": [
    "d6.pop('assignment')"
   ]
  },
  {
   "cell_type": "code",
   "execution_count": 54,
   "id": "3f10e9f6-a425-4d25-8d28-dfe210b32b69",
   "metadata": {},
   "outputs": [
    {
     "data": {
      "text/plain": [
       "{'launch date': {12, 14, 28},\n",
       " 'class time': {'8pm': 'web dev', 'data science strutchear': '9pm'},\n",
       " 'menter': ['pwskill', 'data science', 'web dev']}"
      ]
     },
     "execution_count": 54,
     "metadata": {},
     "output_type": "execute_result"
    }
   ],
   "source": [
    "d6"
   ]
  },
  {
   "cell_type": "code",
   "execution_count": 1,
   "id": "7e0d7701-1dd6-4ff2-8dc9-482d6797151c",
   "metadata": {},
   "outputs": [
    {
     "name": "stdout",
     "output_type": "stream",
     "text": [
      "yes a is grater then 10\n"
     ]
    }
   ],
   "source": [
    "a=10\n",
    "if a>=10:\n",
    "    print(\"yes a is grater then 10\")\n"
   ]
  },
  {
   "cell_type": "code",
   "execution_count": 2,
   "id": "1fc5a7aa-c5dc-41f0-b552-3d585ba3b6ee",
   "metadata": {},
   "outputs": [
    {
     "name": "stdout",
     "output_type": "stream",
     "text": [
      "yes c is grater then 80\n"
     ]
    }
   ],
   "source": [
    "c=80\n",
    "if c>=80:\n",
    "    print(\"yes c is grater then 80\")"
   ]
  },
  {
   "cell_type": "code",
   "execution_count": 3,
   "id": "7d3b3259-a9f8-41a3-ac01-c2ff2bccaeaa",
   "metadata": {},
   "outputs": [
    {
     "name": "stdout",
     "output_type": "stream",
     "text": [
      "worlds longest river Nil river,situated in Afrika\n"
     ]
    }
   ],
   "source": [
    "print(\"worlds longest river Nil river,situated in Afrika\")"
   ]
  },
  {
   "cell_type": "code",
   "execution_count": 7,
   "id": "cb80318d-dc27-4395-94ea-c3c29496ad3d",
   "metadata": {},
   "outputs": [
    {
     "name": "stdout",
     "output_type": "stream",
     "text": [
      "Englisg is a most important language for foreign police\n"
     ]
    }
   ],
   "source": [
    "print(\"Englisg is a most important language for foreign police\")"
   ]
  },
  {
   "cell_type": "code",
   "execution_count": 15,
   "id": "a81c7504-793b-469a-919b-9fe949dc209a",
   "metadata": {},
   "outputs": [
    {
     "name": "stdout",
     "output_type": "stream",
     "text": [
      "you will be a part of A1 batch\n"
     ]
    }
   ],
   "source": [
    "marks=65\n",
    "if mark >=80:\n",
    "    print(\"you will be a part of A0 batch\")\n",
    "elif marks>=60 and marks<80:\n",
    "    print(\"you will be a part of A1 batch\")\n",
    "elif marks>=40 and marks<60:\n",
    "    print(\"you will be a part of A2 batch\")\n",
    "elif marks>=35 and marks < 50:\n",
    "    print(\"you will be a part of A3 batch\")"
   ]
  },
  {
   "cell_type": "code",
   "execution_count": 16,
   "id": "dde4e0b0-0fc3-4935-be4c-5a83ff0e3baa",
   "metadata": {},
   "outputs": [
    {
     "data": {
      "text/plain": [
       "False"
      ]
     },
     "execution_count": 16,
     "metadata": {},
     "output_type": "execute_result"
    }
   ],
   "source": [
    "10>=80"
   ]
  },
  {
   "cell_type": "code",
   "execution_count": 17,
   "id": "04f454ac-e935-4d0a-93ab-f502913441c7",
   "metadata": {},
   "outputs": [
    {
     "data": {
      "text/plain": [
       "True"
      ]
     },
     "execution_count": 17,
     "metadata": {},
     "output_type": "execute_result"
    }
   ],
   "source": [
    "90>=80"
   ]
  },
  {
   "cell_type": "code",
   "execution_count": 18,
   "id": "315a2dee-230a-4dd9-8175-5cd4127611e8",
   "metadata": {},
   "outputs": [
    {
     "name": "stdin",
     "output_type": "stream",
     "text": [
      "enter your marks 45\n"
     ]
    }
   ],
   "source": [
    "marks=input(\"enter your marks\")"
   ]
  },
  {
   "cell_type": "code",
   "execution_count": 19,
   "id": "3768d0bc-5606-4da3-b25a-3a13f3445b66",
   "metadata": {},
   "outputs": [
    {
     "data": {
      "text/plain": [
       "'45'"
      ]
     },
     "execution_count": 19,
     "metadata": {},
     "output_type": "execute_result"
    }
   ],
   "source": [
    "marks"
   ]
  },
  {
   "cell_type": "code",
   "execution_count": 20,
   "id": "6764fb51-b7d6-430e-964b-9f9b47275a05",
   "metadata": {},
   "outputs": [
    {
     "data": {
      "text/plain": [
       "str"
      ]
     },
     "execution_count": 20,
     "metadata": {},
     "output_type": "execute_result"
    }
   ],
   "source": [
    "type(marks)"
   ]
  },
  {
   "cell_type": "code",
   "execution_count": 23,
   "id": "2591cdce-8d31-4b9f-9564-86aa886af3d4",
   "metadata": {},
   "outputs": [
    {
     "name": "stdin",
     "output_type": "stream",
     "text": [
      "enter price 500\n"
     ]
    },
    {
     "name": "stdout",
     "output_type": "stream",
     "text": [
      "i wll purchese\n"
     ]
    }
   ],
   "source": [
    "price=int(input(\"enter price\"))\n",
    "if price >1000:\n",
    "    print(\"i will not purchese\")\n",
    "else :\n",
    "    print(\"i wll purchese\")"
   ]
  },
  {
   "cell_type": "code",
   "execution_count": 2,
   "id": "c0117b40-48e9-4dc4-a435-18f89d775f5d",
   "metadata": {},
   "outputs": [
    {
     "name": "stdin",
     "output_type": "stream",
     "text": [
      "enter price 7000\n"
     ]
    },
    {
     "name": "stdout",
     "output_type": "stream",
     "text": [
      "i will not purchese\n",
      "this is too much\n"
     ]
    }
   ],
   "source": [
    "price=int(input(\"enter price\"))\n",
    "if price >1000:\n",
    "    print(\"i will not purchese\")\n",
    "    if price >5000:\n",
    "        print(\"this is too much\")\n",
    "    elif price>2000 :\n",
    "        print(\"it's ok\")\n",
    "else:\n",
    "    print(\"not intrested\")\n",
    "    print(\"i will not purches\")\n",
    "    if price>5000:\n",
    "        print(\"it is too much\")\n",
    "    elif price >2000:\n",
    "        print(\"it's ok\")        \n"
   ]
  },
  {
   "cell_type": "code",
   "execution_count": 3,
   "id": "d7c1cba4-742a-44ad-b0fd-def182c461fc",
   "metadata": {},
   "outputs": [],
   "source": [
    "l = [1,1,2,3,4,5,8,9,7,6,9]"
   ]
  },
  {
   "cell_type": "code",
   "execution_count": 4,
   "id": "73dad17d-40fb-4c8d-abf0-2eb3383c9bd4",
   "metadata": {},
   "outputs": [
    {
     "data": {
      "text/plain": [
       "2"
      ]
     },
     "execution_count": 4,
     "metadata": {},
     "output_type": "execute_result"
    }
   ],
   "source": [
    "l[0]+1"
   ]
  },
  {
   "cell_type": "code",
   "execution_count": 5,
   "id": "c528e8d0-8378-461d-a5f4-baa32b5aed73",
   "metadata": {},
   "outputs": [
    {
     "data": {
      "text/plain": [
       "3"
      ]
     },
     "execution_count": 5,
     "metadata": {},
     "output_type": "execute_result"
    }
   ],
   "source": [
    "l[0]+2"
   ]
  },
  {
   "cell_type": "code",
   "execution_count": 6,
   "id": "dde4f609-e905-44fd-9cca-ac2045840db1",
   "metadata": {},
   "outputs": [],
   "source": [
    "l1=[]"
   ]
  },
  {
   "cell_type": "code",
   "execution_count": 7,
   "id": "568b641e-5648-4cf2-a31e-9ef00177eacf",
   "metadata": {},
   "outputs": [],
   "source": [
    "l1.append(l[0]+1)"
   ]
  },
  {
   "cell_type": "code",
   "execution_count": 8,
   "id": "5b215519-079c-4768-853e-a4789745002d",
   "metadata": {},
   "outputs": [
    {
     "data": {
      "text/plain": [
       "[2]"
      ]
     },
     "execution_count": 8,
     "metadata": {},
     "output_type": "execute_result"
    }
   ],
   "source": [
    "l1"
   ]
  },
  {
   "cell_type": "code",
   "execution_count": 9,
   "id": "3f2efba3-3891-4eb3-b394-a568458bf8bc",
   "metadata": {},
   "outputs": [
    {
     "name": "stdout",
     "output_type": "stream",
     "text": [
      "1\n",
      "1\n",
      "2\n",
      "3\n",
      "4\n",
      "5\n",
      "8\n",
      "9\n",
      "7\n",
      "6\n",
      "9\n"
     ]
    }
   ],
   "source": [
    "for i in l :\n",
    "    print(i)\n",
    "    "
   ]
  },
  {
   "cell_type": "code",
   "execution_count": null,
   "id": "0ef99de0-071c-4752-bf51-ce43a7995ab7",
   "metadata": {},
   "outputs": [
    {
     "data": {
      "text/plain": [
       "[]"
      ]
     },
     "execution_count": 2,
     "metadata": {},
     "output_type": "execute_result"
    }
   ],
   "source": [
    "l1=[]\n",
    "for i in l1 :\n",
    "    print(i+1)\n",
    "    l1.append(i+1)\n",
    "l1"
   ]
  },
  {
   "cell_type": "code",
   "execution_count": 3,
   "id": "1f38b15b-5622-4400-836a-d095e3486e8e",
   "metadata": {},
   "outputs": [],
   "source": [
    "l = [1,1,2,3,4,5,8,9,7,6,9]"
   ]
  },
  {
   "cell_type": "code",
   "execution_count": 12,
   "id": "3b98c6fd-9c28-40d4-b07c-9aa45f7c8dbc",
   "metadata": {},
   "outputs": [
    {
     "name": "stdout",
     "output_type": "stream",
     "text": [
      "2\n",
      "2\n",
      "3\n",
      "4\n",
      "5\n",
      "6\n",
      "9\n",
      "10\n",
      "8\n",
      "7\n",
      "10\n"
     ]
    },
    {
     "data": {
      "text/plain": [
       "[2, 2, 3, 4, 5, 6, 9, 10, 8, 7, 10]"
      ]
     },
     "execution_count": 12,
     "metadata": {},
     "output_type": "execute_result"
    }
   ],
   "source": [
    "l1=[]\n",
    "for i in l :\n",
    "    print(i+1)\n",
    "    l1.append(i+1)\n",
    "l1\n",
    "    "
   ]
  },
  {
   "cell_type": "code",
   "execution_count": 13,
   "id": "03fc5218-6d88-4da4-85c5-a4ad0d337e01",
   "metadata": {},
   "outputs": [],
   "source": [
    "l=[\"sunday\",\"monday\",\"pwskill\",\"tusday\"]"
   ]
  },
  {
   "cell_type": "code",
   "execution_count": 25,
   "id": "0a28cebd-b0c5-4fd8-8496-e596aabc8d4e",
   "metadata": {},
   "outputs": [
    {
     "name": "stdout",
     "output_type": "stream",
     "text": [
      "sunday\n",
      "monday\n",
      "pwskill\n",
      "tusday\n"
     ]
    }
   ],
   "source": [
    "for i in l :\n",
    "    print(i)\n",
    "    l1.append(i.upper())"
   ]
  },
  {
   "cell_type": "code",
   "execution_count": 24,
   "id": "10bd8260-2959-48f7-896c-2eff47148ceb",
   "metadata": {},
   "outputs": [
    {
     "data": {
      "text/plain": [
       "['sunday', 'monday', 'pwskill', 'tusday']"
      ]
     },
     "execution_count": 24,
     "metadata": {},
     "output_type": "execute_result"
    }
   ],
   "source": [
    "l"
   ]
  },
  {
   "cell_type": "code",
   "execution_count": 17,
   "id": "c343826b-04da-45c1-be24-7979ac722360",
   "metadata": {},
   "outputs": [],
   "source": [
    "l=[\"puja\",\"monday\",\"skill\",\"tusday\"]"
   ]
  },
  {
   "cell_type": "code",
   "execution_count": 13,
   "id": "7a2cceea-49bc-4eda-b090-313c6917cec5",
   "metadata": {},
   "outputs": [],
   "source": [
    "l1=[1,2,3,4,4,\"sunday\",\"pwskill\",\"west\",324,34.89,\"acb\"]"
   ]
  },
  {
   "cell_type": "code",
   "execution_count": 18,
   "id": "d2aa7161-2b87-4543-805f-9b7b0911e76f",
   "metadata": {},
   "outputs": [],
   "source": [
    "l1_num =[]\n",
    "l2_str =[]\n",
    "for i in l :\n",
    "    if type(i)== int or type(i)== float :\n",
    "        l1_num.append(i)\n",
    "    else :\n",
    "        l2_str.append(i)"
   ]
  },
  {
   "cell_type": "code",
   "execution_count": 26,
   "id": "96231c94-a173-40d4-aaa6-77a56857d44c",
   "metadata": {},
   "outputs": [
    {
     "data": {
      "text/plain": [
       "[]"
      ]
     },
     "execution_count": 26,
     "metadata": {},
     "output_type": "execute_result"
    }
   ],
   "source": [
    "l1_num"
   ]
  },
  {
   "cell_type": "code",
   "execution_count": 20,
   "id": "15c080c5-d2b3-4cdd-ada9-254e85967c85",
   "metadata": {},
   "outputs": [
    {
     "data": {
      "text/plain": [
       "['puja', 'monday', 'skill', 'tusday']"
      ]
     },
     "execution_count": 20,
     "metadata": {},
     "output_type": "execute_result"
    }
   ],
   "source": [
    "l2_str"
   ]
  },
  {
   "cell_type": "code",
   "execution_count": null,
   "id": "2db9690b-9b59-46d2-ad25-70d1ed1da05f",
   "metadata": {},
   "outputs": [],
   "source": []
  }
 ],
 "metadata": {
  "kernelspec": {
   "display_name": "Python 3 (ipykernel)",
   "language": "python",
   "name": "python3"
  },
  "language_info": {
   "codemirror_mode": {
    "name": "ipython",
    "version": 3
   },
   "file_extension": ".py",
   "mimetype": "text/x-python",
   "name": "python",
   "nbconvert_exporter": "python",
   "pygments_lexer": "ipython3",
   "version": "3.10.8"
  }
 },
 "nbformat": 4,
 "nbformat_minor": 5
}
